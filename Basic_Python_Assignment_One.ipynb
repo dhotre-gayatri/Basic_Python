'''
Q1. Features of Python

     1. Simple and Easy to learn
     2. Shot code
     3. It is free means no licence is needed
     4. platform independent
     5.Dynamically typed
     6.python is procedure oriented and also object-oriented and scripting language also


Q2. Predefined Keywords
      python has 35 predefined keywords, keywords meaning is the words has special meaning that we can't change
      Example int : to accept integer values like 1,2,-1,0,2,4,5,.....
       float :  to accept real values like 1.0, 2.3, 1.5, 0.2, 4.5.....
       string :  to accept character values like 'a', '123', 'myself', '*', '@'.....
       complex : to accept complex values like 2 + 3j, 4 + 5j.....
       if : to check conditions
       elif : to check multiple conditions


Q3. Mutable and Immutable
    Mutable  : It means that one we have created an object then we can change it
    Immutable : It means that one we have created an object then we can't change it

    string , tuples are immutable
    dictionaries, lists , sets are mutable
'''
 str = " 10 "
a = 5
if a > 3:
    print(a)
elif 3:
    print(3)
